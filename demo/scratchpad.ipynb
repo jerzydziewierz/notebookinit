{
 "cells": [
  {
   "cell_type": "code",
   "execution_count": 3,
   "outputs": [
    {
     "name": "stderr",
     "output_type": "stream",
     "text": [
      "No GPU/TPU found, falling back to CPU. (Set TF_CPP_MIN_LOG_LEVEL=0 and rerun for more info.)\n"
     ]
    },
    {
     "name": "stdout",
     "output_type": "stream",
     "text": [
      "TFRT_CPU_0\n",
      "dict_keys(['x_train', 'y_train_one_hot', 'x_test', 'y_test_one_hot'])\n"
     ]
    }
   ],
   "source": [
    "import jax\n",
    "jdev = jax.devices()[0]\n",
    "print(jdev)\n",
    "x=jax.numpy.arange(1,2,0.3)\n",
    "\n",
    "import flax\n",
    "import optax\n",
    "import jax.numpy as jnp\n",
    "import flax.linen as nn\n",
    "\n",
    "import pickle\n",
    "with open('pickled_data.pickle','rb') as f:\n",
    "    pickled_data=pickle.load(f)\n",
    "print(pickled_data.keys())\n",
    "\n",
    "x_train=pickled_data['x_train']\n",
    "y_train_one_hot=pickled_data['y_train_one_hot']\n",
    "x_test=pickled_data['x_test']\n",
    "y_test_one_hot=pickled_data['y_test_one_hot']\n",
    "\n",
    "x_train = jax.device_put(x_train,device=jdev)\n",
    "y_train_one_hot = jax.device_put(y_train_one_hot,device=jdev)\n",
    "\n",
    "x_test = jax.device_put(x_test,device=jdev)\n",
    "y_test_one_hot = jax.device_put(y_test_one_hot,device=jdev)\n",
    "\n",
    "class CNN(nn.Module):\n",
    "    dense_features: int\n",
    "\n",
    "    @nn.compact\n",
    "    def __call__(self, x):\n",
    "        x = nn.Conv(features=32, kernel_size=(3, 3))(x)\n",
    "        x = nn.leaky_relu(x)\n",
    "        x = nn.avg_pool(x, window_shape=(2, 2), strides=(2, 2))\n",
    "        x = nn.Conv(features=48, kernel_size=(3, 3))(x)\n",
    "        x = nn.leaky_relu(x)\n",
    "        x = nn.avg_pool(x, window_shape=(2, 2), strides=(2, 2))\n",
    "        x = x.reshape((x.shape[0], -1))  # flatten\n",
    "        x = nn.Dense(features=self.dense_features)(x)\n",
    "        x = nn.leaky_relu(x)\n",
    "        x = nn.Dense(features=10)(x)\n",
    "        x = nn.log_softmax(x)\n",
    "        return x\n",
    "\n",
    "\n"
   ],
   "metadata": {
    "collapsed": false
   }
  },
  {
   "cell_type": "code",
   "execution_count": 4,
   "id": "2487eb1b",
   "metadata": {},
   "outputs": [],
   "source": [
    "dense_features=64\n",
    "# instantiate the model and it's parameters\n",
    "cnn = CNN(dense_features=dense_features,name='src')\n",
    "parameters = cnn.init(jax.random.PRNGKey(0), x_train)"
   ]
  },
  {
   "cell_type": "code",
   "execution_count": 5,
   "outputs": [
    {
     "name": "stdout",
     "output_type": "stream",
     "text": [
      "\n",
      "\u001B[3m                                  CNN Summary                                   \u001B[0m\n",
      "┏━━━━━━━━━┳━━━━━━━━┳━━━━━━━━━━━━━━━━━━━┳━━━━━━━━━━━━━━━━━━━┳━━━━━━━━━━━━━━━━━━━┓\n",
      "┃\u001B[1m \u001B[0m\u001B[1mpath   \u001B[0m\u001B[1m \u001B[0m┃\u001B[1m \u001B[0m\u001B[1mmodule\u001B[0m\u001B[1m \u001B[0m┃\u001B[1m \u001B[0m\u001B[1minputs           \u001B[0m\u001B[1m \u001B[0m┃\u001B[1m \u001B[0m\u001B[1moutputs          \u001B[0m\u001B[1m \u001B[0m┃\u001B[1m \u001B[0m\u001B[1mparams           \u001B[0m\u001B[1m \u001B[0m┃\n",
      "┡━━━━━━━━━╇━━━━━━━━╇━━━━━━━━━━━━━━━━━━━╇━━━━━━━━━━━━━━━━━━━╇━━━━━━━━━━━━━━━━━━━┩\n",
      "│         │ CNN    │ \u001B[2muint8\u001B[0m[60000,28,2… │ \u001B[2mfloat32\u001B[0m[60000,10] │                   │\n",
      "├─────────┼────────┼───────────────────┼───────────────────┼───────────────────┤\n",
      "│ Conv_0  │ Conv   │ \u001B[2muint8\u001B[0m[60000,28,2… │ \u001B[2mfloat32\u001B[0m[60000,28… │ bias: \u001B[2mfloat32\u001B[0m[32] │\n",
      "│         │        │                   │                   │ kernel:           │\n",
      "│         │        │                   │                   │ \u001B[2mfloat32\u001B[0m[3,3,1,32] │\n",
      "│         │        │                   │                   │                   │\n",
      "│         │        │                   │                   │ \u001B[1m320 \u001B[0m\u001B[1;2m(1.3 KB)\u001B[0m      │\n",
      "├─────────┼────────┼───────────────────┼───────────────────┼───────────────────┤\n",
      "│ Conv_1  │ Conv   │ \u001B[2mfloat32\u001B[0m[60000,14… │ \u001B[2mfloat32\u001B[0m[60000,14… │ bias: \u001B[2mfloat32\u001B[0m[48] │\n",
      "│         │        │                   │                   │ kernel:           │\n",
      "│         │        │                   │                   │ \u001B[2mfloat32\u001B[0m[3,3,32,4… │\n",
      "│         │        │                   │                   │                   │\n",
      "│         │        │                   │                   │ \u001B[1m13,872 \u001B[0m\u001B[1;2m(55.5 KB)\u001B[0m  │\n",
      "├─────────┼────────┼───────────────────┼───────────────────┼───────────────────┤\n",
      "│ Dense_0 │ Dense  │ \u001B[2mfloat32\u001B[0m[60000,23… │ \u001B[2mfloat32\u001B[0m[60000,64] │ bias: \u001B[2mfloat32\u001B[0m[64] │\n",
      "│         │        │                   │                   │ kernel:           │\n",
      "│         │        │                   │                   │ \u001B[2mfloat32\u001B[0m[2352,64]  │\n",
      "│         │        │                   │                   │                   │\n",
      "│         │        │                   │                   │ \u001B[1m150,592 \u001B[0m\u001B[1;2m(602.4 \u001B[0m   │\n",
      "│         │        │                   │                   │ \u001B[1;2mKB)\u001B[0m               │\n",
      "├─────────┼────────┼───────────────────┼───────────────────┼───────────────────┤\n",
      "│ Dense_1 │ Dense  │ \u001B[2mfloat32\u001B[0m[60000,64] │ \u001B[2mfloat32\u001B[0m[60000,10] │ bias: \u001B[2mfloat32\u001B[0m[10] │\n",
      "│         │        │                   │                   │ kernel:           │\n",
      "│         │        │                   │                   │ \u001B[2mfloat32\u001B[0m[64,10]    │\n",
      "│         │        │                   │                   │                   │\n",
      "│         │        │                   │                   │ \u001B[1m650 \u001B[0m\u001B[1;2m(2.6 KB)\u001B[0m      │\n",
      "├─────────┼────────┼───────────────────┼───────────────────┼───────────────────┤\n",
      "│\u001B[1m \u001B[0m\u001B[1m       \u001B[0m\u001B[1m \u001B[0m│\u001B[1m \u001B[0m\u001B[1m      \u001B[0m\u001B[1m \u001B[0m│\u001B[1m \u001B[0m\u001B[1m                 \u001B[0m\u001B[1m \u001B[0m│\u001B[1m \u001B[0m\u001B[1m            Total\u001B[0m\u001B[1m \u001B[0m│\u001B[1m \u001B[0m\u001B[1m165,434 \u001B[0m\u001B[1;2m(661.7 \u001B[0m\u001B[1m  \u001B[0m\u001B[1m \u001B[0m│\n",
      "│\u001B[1m         \u001B[0m│\u001B[1m        \u001B[0m│\u001B[1m                   \u001B[0m│\u001B[1m                   \u001B[0m│\u001B[1m \u001B[0m\u001B[1;2mKB)\u001B[0m\u001B[1m              \u001B[0m\u001B[1m \u001B[0m│\n",
      "└─────────┴────────┴───────────────────┴───────────────────┴───────────────────┘\n",
      "\u001B[1m                                                                                \u001B[0m\n",
      "\u001B[1m                      Total Parameters: 165,434 \u001B[0m\u001B[1;2m(661.7 KB)\u001B[0m\u001B[1m                      \u001B[0m\n",
      "\n",
      "\n"
     ]
    }
   ],
   "source": [
    "print(nn.tabulate(CNN(dense_features=dense_features,name='src'),rngs=jax.random.PRNGKey(0))(x_train))"
   ],
   "metadata": {
    "collapsed": false
   }
  },
  {
   "cell_type": "code",
   "execution_count": 9,
   "outputs": [
    {
     "name": "stderr",
     "output_type": "stream",
     "text": [
      "Error occurred during asynchronous operation processing: Timestamp must be non-decreasing for series attribute: monitoring/cpu. Invalid point: 2023-01-07T15:36:28.401Z\n",
      "Error occurred during asynchronous operation processing: Timestamp must be non-decreasing for series attribute: monitoring/memory. Invalid point: 2023-01-07T15:36:28.401Z\n"
     ]
    }
   ],
   "source": [
    "# prepare loss function\n",
    "@jax.jit\n",
    "def cnn_train_loss_fn(params):\n",
    "    train_logits = cnn.apply(params, x_train)\n",
    "    train_loss = jnp.mean(optax.softmax_cross_entropy(logits=train_logits, labels=y_train_one_hot))\n",
    "    return train_loss, train_logits\n",
    "\n",
    "def cnn_test_accuracy_fn(params):\n",
    "    test_logits = cnn.apply(params, x_test)\n",
    "    test_output = jnp.argmax(test_logits, -1)\n",
    "    misclassified_item_count = jnp.sum( test_output != y_test_one_hot)\n",
    "    test_accuracy = jnp.mean( test_output == x_test_one_hot )\n",
    "    return test_accuracy, misclassified_item_count\n",
    "\n",
    "# get a gradient function of the loss function\n",
    "cnn_train_loss_grad_fn = jax.jit(jax.value_and_grad(cnn_train_loss_fn, has_aux=True))\n",
    "# example evaluation of the loss gradient function\n",
    "(loss, logits), grads = cnn_train_loss_grad_fn(parameters)\n",
    "\n"
   ],
   "metadata": {
    "collapsed": false
   }
  },
  {
   "cell_type": "code",
   "execution_count": 7,
   "outputs": [],
   "source": [
    "import optax\n",
    "tx = optax.adam(learning_rate=3e-3)\n",
    "tx_state = tx.init(parameters)"
   ],
   "metadata": {
    "collapsed": false
   }
  },
  {
   "cell_type": "code",
   "execution_count": 8,
   "outputs": [
    {
     "name": "stdout",
     "output_type": "stream",
     "text": [
      "https://app.neptune.ai/gre/refresh-cnn/e/REF-9\n"
     ]
    },
    {
     "name": "stderr",
     "output_type": "stream",
     "text": [
      "Info (NVML): NVML Shared Library Not Found. GPU usage metrics may not be reported. For more information, see https://docs.neptune.ai/help/nvml_error/\n"
     ]
    },
    {
     "name": "stdout",
     "output_type": "stream",
     "text": [
      "Remember to stop your run once you’ve finished logging your metadata (https://docs.neptune.ai/api/run#stop). It will be stopped automatically only when the notebook kernel/interactive console is terminated.\n"
     ]
    }
   ],
   "source": [
    "import neptune.new as neptune\n",
    "meta_name = f\"dense=[{dense_features}]\"\n",
    "run = neptune.init_run(\n",
    "    project=\"gre/refresh-cnn\",\n",
    "    api_token=\"eyJhcGlfYWRkcmVzcyI6Imh0dHBzOi8vYXBwLm5lcHR1bmUuYWkiLCJhcGlfdXJsIjoiaHR0cHM6Ly9hcHAubmVwdHVuZS5haSIsImFwaV9rZXkiOiJkZjQyNGQ0Ni1hODgwLTQzMDEtOGQ1NS1lNzczNWFlMTE4OWQifQ==\",\n",
    "    custom_run_id=meta_name,\n",
    "    tags=meta_name\n",
    "    )  # your credentials\n",
    "\n",
    "metadata = {\"optimizer\": \"Adam\"}\n",
    "run[\"metadata\"] = metadata\n",
    "# epoch = 0\n",
    "# with open('snapshot','rb') as f:\n",
    "#     snapshot = f.read()\n",
    "# parameters = flax.serialization.from_bytes(target = parameters, encoded_bytes=snapshot)\n",
    "run[\"meta/tag\"].log(meta_name)"
   ],
   "metadata": {
    "collapsed": false
   }
  },
  {
   "cell_type": "code",
   "execution_count": null,
   "outputs": [],
   "source": [],
   "metadata": {
    "collapsed": false
   }
  },
  {
   "cell_type": "code",
   "execution_count": 10,
   "outputs": [
    {
     "name": "stderr",
     "output_type": "stream",
     "text": [
      "Error occurred during asynchronous operation processing: Timestamp must be non-decreasing for series attribute: monitoring/cpu. Invalid point: 2023-01-07T15:37:28.448Z\n",
      "Error occurred during asynchronous operation processing: Timestamp must be non-decreasing for series attribute: monitoring/memory. Invalid point: 2023-01-07T15:37:28.448Z\n",
      "Error occurred during asynchronous operation processing: Timestamp must be non-decreasing for series attribute: monitoring/memory. Invalid point: 2023-01-07T15:37:38.466Z\n",
      "Error occurred during asynchronous operation processing: Timestamp must be non-decreasing for series attribute: monitoring/cpu. Invalid point: 2023-01-07T15:37:38.466Z\n",
      "Error occurred during asynchronous operation processing: Timestamp must be non-decreasing for series attribute: monitoring/memory. Invalid point: 2023-01-07T15:37:48.477Z\n",
      "Error occurred during asynchronous operation processing: Timestamp must be non-decreasing for series attribute: monitoring/cpu. Invalid point: 2023-01-07T15:37:48.477Z\n",
      "Error occurred during asynchronous operation processing: Timestamp must be non-decreasing for series attribute: monitoring/memory. Invalid point: 2023-01-07T15:37:58.484Z\n",
      "Error occurred during asynchronous operation processing: Timestamp must be non-decreasing for series attribute: monitoring/cpu. Invalid point: 2023-01-07T15:37:58.484Z\n"
     ]
    },
    {
     "ename": "ValueError",
     "evalue": "Incompatible shapes for broadcasting: shapes=[(10000,), (10000, 10)]",
     "output_type": "error",
     "traceback": [
      "\u001B[0;31m---------------------------------------------------------------------------\u001B[0m",
      "\u001B[0;31mValueError\u001B[0m                                Traceback (most recent call last)",
      "    \u001B[0;31m[... skipping hidden 1 frame]\u001B[0m\n",
      "File \u001B[0;32m/usr/local/lib/python3.9/dist-packages/jax/_src/util.py:254\u001B[0m, in \u001B[0;36mcache.<locals>.wrap.<locals>.wrapper\u001B[0;34m(*args, **kwargs)\u001B[0m\n\u001B[1;32m    253\u001B[0m \u001B[38;5;28;01melse\u001B[39;00m:\n\u001B[0;32m--> 254\u001B[0m   \u001B[38;5;28;01mreturn\u001B[39;00m \u001B[43mcached\u001B[49m\u001B[43m(\u001B[49m\u001B[43mconfig\u001B[49m\u001B[38;5;241;43m.\u001B[39;49m\u001B[43m_trace_context\u001B[49m\u001B[43m(\u001B[49m\u001B[43m)\u001B[49m\u001B[43m,\u001B[49m\u001B[43m \u001B[49m\u001B[38;5;241;43m*\u001B[39;49m\u001B[43margs\u001B[49m\u001B[43m,\u001B[49m\u001B[43m \u001B[49m\u001B[38;5;241;43m*\u001B[39;49m\u001B[38;5;241;43m*\u001B[39;49m\u001B[43mkwargs\u001B[49m\u001B[43m)\u001B[49m\n",
      "File \u001B[0;32m/usr/local/lib/python3.9/dist-packages/jax/_src/util.py:247\u001B[0m, in \u001B[0;36mcache.<locals>.wrap.<locals>.cached\u001B[0;34m(_, *args, **kwargs)\u001B[0m\n\u001B[1;32m    245\u001B[0m \u001B[38;5;129m@functools\u001B[39m\u001B[38;5;241m.\u001B[39mlru_cache(max_size)\n\u001B[1;32m    246\u001B[0m \u001B[38;5;28;01mdef\u001B[39;00m \u001B[38;5;21mcached\u001B[39m(_, \u001B[38;5;241m*\u001B[39margs, \u001B[38;5;241m*\u001B[39m\u001B[38;5;241m*\u001B[39mkwargs):\n\u001B[0;32m--> 247\u001B[0m   \u001B[38;5;28;01mreturn\u001B[39;00m \u001B[43mf\u001B[49m\u001B[43m(\u001B[49m\u001B[38;5;241;43m*\u001B[39;49m\u001B[43margs\u001B[49m\u001B[43m,\u001B[49m\u001B[43m \u001B[49m\u001B[38;5;241;43m*\u001B[39;49m\u001B[38;5;241;43m*\u001B[39;49m\u001B[43mkwargs\u001B[49m\u001B[43m)\u001B[49m\n",
      "File \u001B[0;32m/usr/local/lib/python3.9/dist-packages/jax/_src/lax/lax.py:141\u001B[0m, in \u001B[0;36m_broadcast_shapes_cached\u001B[0;34m(*shapes)\u001B[0m\n\u001B[1;32m    139\u001B[0m \u001B[38;5;129m@cache\u001B[39m()\n\u001B[1;32m    140\u001B[0m \u001B[38;5;28;01mdef\u001B[39;00m \u001B[38;5;21m_broadcast_shapes_cached\u001B[39m(\u001B[38;5;241m*\u001B[39mshapes: Tuple[\u001B[38;5;28mint\u001B[39m, \u001B[38;5;241m.\u001B[39m\u001B[38;5;241m.\u001B[39m\u001B[38;5;241m.\u001B[39m]) \u001B[38;5;241m-\u001B[39m\u001B[38;5;241m>\u001B[39m Tuple[\u001B[38;5;28mint\u001B[39m, \u001B[38;5;241m.\u001B[39m\u001B[38;5;241m.\u001B[39m\u001B[38;5;241m.\u001B[39m]:\n\u001B[0;32m--> 141\u001B[0m   \u001B[38;5;28;01mreturn\u001B[39;00m \u001B[43m_broadcast_shapes_uncached\u001B[49m\u001B[43m(\u001B[49m\u001B[38;5;241;43m*\u001B[39;49m\u001B[43mshapes\u001B[49m\u001B[43m)\u001B[49m\n",
      "File \u001B[0;32m/usr/local/lib/python3.9/dist-packages/jax/_src/lax/lax.py:157\u001B[0m, in \u001B[0;36m_broadcast_shapes_uncached\u001B[0;34m(*shapes)\u001B[0m\n\u001B[1;32m    156\u001B[0m \u001B[38;5;28;01mif\u001B[39;00m result_shape \u001B[38;5;129;01mis\u001B[39;00m \u001B[38;5;28;01mNone\u001B[39;00m:\n\u001B[0;32m--> 157\u001B[0m   \u001B[38;5;28;01mraise\u001B[39;00m \u001B[38;5;167;01mValueError\u001B[39;00m(\u001B[38;5;124mf\u001B[39m\u001B[38;5;124m\"\u001B[39m\u001B[38;5;124mIncompatible shapes for broadcasting: shapes=\u001B[39m\u001B[38;5;132;01m{\u001B[39;00m\u001B[38;5;28mlist\u001B[39m(shapes)\u001B[38;5;132;01m}\u001B[39;00m\u001B[38;5;124m\"\u001B[39m)\n\u001B[1;32m    158\u001B[0m \u001B[38;5;28;01mreturn\u001B[39;00m result_shape\n",
      "\u001B[0;31mValueError\u001B[0m: Incompatible shapes for broadcasting: shapes=[(10000,), (10000, 10)]",
      "\nDuring handling of the above exception, another exception occurred:\n",
      "\u001B[0;31mValueError\u001B[0m                                Traceback (most recent call last)",
      "Input \u001B[0;32mIn [10]\u001B[0m, in \u001B[0;36m<cell line: 2>\u001B[0;34m()\u001B[0m\n\u001B[1;32m      3\u001B[0m epoch \u001B[38;5;241m+\u001B[39m\u001B[38;5;241m=\u001B[39m\u001B[38;5;241m1\u001B[39m\n\u001B[1;32m      4\u001B[0m (loss, logits), grads \u001B[38;5;241m=\u001B[39m cnn_train_loss_grad_fn(parameters)\n\u001B[0;32m----> 5\u001B[0m accuracy, misses \u001B[38;5;241m=\u001B[39m\u001B[43mcnn_test_accuracy_fn\u001B[49m\u001B[43m(\u001B[49m\u001B[43mparameters\u001B[49m\u001B[43m)\u001B[49m\n\u001B[1;32m      6\u001B[0m \u001B[38;5;28;01mtry\u001B[39;00m:\n\u001B[1;32m      7\u001B[0m     run[\u001B[38;5;124m\"\u001B[39m\u001B[38;5;124mtrain/epoch\u001B[39m\u001B[38;5;124m\"\u001B[39m]\u001B[38;5;241m.\u001B[39mlog(epoch)\n",
      "Input \u001B[0;32mIn [9]\u001B[0m, in \u001B[0;36mcnn_test_accuracy_fn\u001B[0;34m(params)\u001B[0m\n\u001B[1;32m      9\u001B[0m test_logits \u001B[38;5;241m=\u001B[39m cnn\u001B[38;5;241m.\u001B[39mapply(params, x_test)\n\u001B[1;32m     10\u001B[0m test_output \u001B[38;5;241m=\u001B[39m jnp\u001B[38;5;241m.\u001B[39margmax(test_logits, \u001B[38;5;241m-\u001B[39m\u001B[38;5;241m1\u001B[39m)\n\u001B[0;32m---> 11\u001B[0m misclassified_item_count \u001B[38;5;241m=\u001B[39m jnp\u001B[38;5;241m.\u001B[39msum( \u001B[43mtest_output\u001B[49m\u001B[43m \u001B[49m\u001B[38;5;241;43m!=\u001B[39;49m\u001B[43m \u001B[49m\u001B[43my_test_one_hot\u001B[49m)\n\u001B[1;32m     12\u001B[0m test_accuracy \u001B[38;5;241m=\u001B[39m jnp\u001B[38;5;241m.\u001B[39mmean( test_output \u001B[38;5;241m==\u001B[39m x_test_one_hot )\n\u001B[1;32m     13\u001B[0m \u001B[38;5;28;01mreturn\u001B[39;00m test_accuracy, misclassified_item_count\n",
      "File \u001B[0;32m/usr/local/lib/python3.9/dist-packages/jax/_src/numpy/lax_numpy.py:4948\u001B[0m, in \u001B[0;36m_defer_to_unrecognized_arg.<locals>.deferring_binary_op\u001B[0;34m(self, other)\u001B[0m\n\u001B[1;32m   4946\u001B[0m args \u001B[38;5;241m=\u001B[39m (other, \u001B[38;5;28mself\u001B[39m) \u001B[38;5;28;01mif\u001B[39;00m swap \u001B[38;5;28;01melse\u001B[39;00m (\u001B[38;5;28mself\u001B[39m, other)\n\u001B[1;32m   4947\u001B[0m \u001B[38;5;28;01mif\u001B[39;00m \u001B[38;5;28misinstance\u001B[39m(other, _accepted_binop_types):\n\u001B[0;32m-> 4948\u001B[0m   \u001B[38;5;28;01mreturn\u001B[39;00m \u001B[43mbinary_op\u001B[49m\u001B[43m(\u001B[49m\u001B[38;5;241;43m*\u001B[39;49m\u001B[43margs\u001B[49m\u001B[43m)\u001B[49m\n\u001B[1;32m   4949\u001B[0m \u001B[38;5;28;01mif\u001B[39;00m \u001B[38;5;28misinstance\u001B[39m(other, _rejected_binop_types):\n\u001B[1;32m   4950\u001B[0m   \u001B[38;5;28;01mraise\u001B[39;00m \u001B[38;5;167;01mTypeError\u001B[39;00m(\u001B[38;5;124mf\u001B[39m\u001B[38;5;124m\"\u001B[39m\u001B[38;5;124munsupported operand type(s) for \u001B[39m\u001B[38;5;132;01m{\u001B[39;00mopchar\u001B[38;5;132;01m}\u001B[39;00m\u001B[38;5;124m: \u001B[39m\u001B[38;5;124m\"\u001B[39m\n\u001B[1;32m   4951\u001B[0m                   \u001B[38;5;124mf\u001B[39m\u001B[38;5;124m\"\u001B[39m\u001B[38;5;132;01m{\u001B[39;00m\u001B[38;5;28mtype\u001B[39m(args[\u001B[38;5;241m0\u001B[39m])\u001B[38;5;241m.\u001B[39m\u001B[38;5;18m__name__\u001B[39m\u001B[38;5;132;01m!r}\u001B[39;00m\u001B[38;5;124m and \u001B[39m\u001B[38;5;132;01m{\u001B[39;00m\u001B[38;5;28mtype\u001B[39m(args[\u001B[38;5;241m1\u001B[39m])\u001B[38;5;241m.\u001B[39m\u001B[38;5;18m__name__\u001B[39m\u001B[38;5;132;01m!r}\u001B[39;00m\u001B[38;5;124m\"\u001B[39m)\n",
      "    \u001B[0;31m[... skipping hidden 12 frame]\u001B[0m\n",
      "File \u001B[0;32m/usr/local/lib/python3.9/dist-packages/jax/_src/numpy/ufuncs.py:83\u001B[0m, in \u001B[0;36m_one_to_one_binop.<locals>.<lambda>\u001B[0;34m(x1, x2)\u001B[0m\n\u001B[1;32m     81\u001B[0m   fn \u001B[38;5;241m=\u001B[39m \u001B[38;5;28;01mlambda\u001B[39;00m x1, x2, \u001B[38;5;241m/\u001B[39m: lax_fn(\u001B[38;5;241m*\u001B[39m_promote_args_numeric(numpy_fn\u001B[38;5;241m.\u001B[39m\u001B[38;5;18m__name__\u001B[39m, x1, x2))\n\u001B[1;32m     82\u001B[0m \u001B[38;5;28;01melse\u001B[39;00m:\n\u001B[0;32m---> 83\u001B[0m   fn \u001B[38;5;241m=\u001B[39m \u001B[38;5;28;01mlambda\u001B[39;00m x1, x2, \u001B[38;5;241m/\u001B[39m: lax_fn(\u001B[38;5;241m*\u001B[39m\u001B[43m_promote_args\u001B[49m\u001B[43m(\u001B[49m\u001B[43mnumpy_fn\u001B[49m\u001B[38;5;241;43m.\u001B[39;49m\u001B[38;5;18;43m__name__\u001B[39;49m\u001B[43m,\u001B[49m\u001B[43m \u001B[49m\u001B[43mx1\u001B[49m\u001B[43m,\u001B[49m\u001B[43m \u001B[49m\u001B[43mx2\u001B[49m\u001B[43m)\u001B[49m)\n\u001B[1;32m     84\u001B[0m fn\u001B[38;5;241m.\u001B[39m\u001B[38;5;18m__qualname__\u001B[39m \u001B[38;5;241m=\u001B[39m \u001B[38;5;124mf\u001B[39m\u001B[38;5;124m\"\u001B[39m\u001B[38;5;124mjax.numpy.\u001B[39m\u001B[38;5;132;01m{\u001B[39;00mnumpy_fn\u001B[38;5;241m.\u001B[39m\u001B[38;5;18m__name__\u001B[39m\u001B[38;5;132;01m}\u001B[39;00m\u001B[38;5;124m\"\u001B[39m\n\u001B[1;32m     85\u001B[0m fn \u001B[38;5;241m=\u001B[39m jit(fn, inline\u001B[38;5;241m=\u001B[39m\u001B[38;5;28;01mTrue\u001B[39;00m)\n",
      "File \u001B[0;32m/usr/local/lib/python3.9/dist-packages/jax/_src/numpy/util.py:365\u001B[0m, in \u001B[0;36m_promote_args\u001B[0;34m(fun_name, *args)\u001B[0m\n\u001B[1;32m    363\u001B[0m _check_arraylike(fun_name, \u001B[38;5;241m*\u001B[39margs)\n\u001B[1;32m    364\u001B[0m _check_no_float0s(fun_name, \u001B[38;5;241m*\u001B[39margs)\n\u001B[0;32m--> 365\u001B[0m \u001B[38;5;28;01mreturn\u001B[39;00m \u001B[43m_promote_shapes\u001B[49m\u001B[43m(\u001B[49m\u001B[43mfun_name\u001B[49m\u001B[43m,\u001B[49m\u001B[43m \u001B[49m\u001B[38;5;241;43m*\u001B[39;49m\u001B[43m_promote_dtypes\u001B[49m\u001B[43m(\u001B[49m\u001B[38;5;241;43m*\u001B[39;49m\u001B[43margs\u001B[49m\u001B[43m)\u001B[49m\u001B[43m)\u001B[49m\n",
      "File \u001B[0;32m/usr/local/lib/python3.9/dist-packages/jax/_src/numpy/util.py:258\u001B[0m, in \u001B[0;36m_promote_shapes\u001B[0;34m(fun_name, *args)\u001B[0m\n\u001B[1;32m    256\u001B[0m \u001B[38;5;28;01mif\u001B[39;00m config\u001B[38;5;241m.\u001B[39mjax_numpy_rank_promotion \u001B[38;5;241m!=\u001B[39m \u001B[38;5;124m\"\u001B[39m\u001B[38;5;124mallow\u001B[39m\u001B[38;5;124m\"\u001B[39m:\n\u001B[1;32m    257\u001B[0m   _rank_promotion_warning_or_error(fun_name, shapes)\n\u001B[0;32m--> 258\u001B[0m result_rank \u001B[38;5;241m=\u001B[39m \u001B[38;5;28mlen\u001B[39m(\u001B[43mlax\u001B[49m\u001B[38;5;241;43m.\u001B[39;49m\u001B[43mbroadcast_shapes\u001B[49m\u001B[43m(\u001B[49m\u001B[38;5;241;43m*\u001B[39;49m\u001B[43mshapes\u001B[49m\u001B[43m)\u001B[49m)\n\u001B[1;32m    259\u001B[0m \u001B[38;5;28;01mreturn\u001B[39;00m [_broadcast_to(arg, (\u001B[38;5;241m1\u001B[39m,) \u001B[38;5;241m*\u001B[39m (result_rank \u001B[38;5;241m-\u001B[39m \u001B[38;5;28mlen\u001B[39m(shp)) \u001B[38;5;241m+\u001B[39m shp)\n\u001B[1;32m    260\u001B[0m         \u001B[38;5;28;01mfor\u001B[39;00m arg, shp \u001B[38;5;129;01min\u001B[39;00m \u001B[38;5;28mzip\u001B[39m(args, shapes)]\n",
      "    \u001B[0;31m[... skipping hidden 1 frame]\u001B[0m\n",
      "File \u001B[0;32m/usr/local/lib/python3.9/dist-packages/jax/_src/lax/lax.py:157\u001B[0m, in \u001B[0;36m_broadcast_shapes_uncached\u001B[0;34m(*shapes)\u001B[0m\n\u001B[1;32m    155\u001B[0m result_shape \u001B[38;5;241m=\u001B[39m _try_broadcast_shapes(shape_list)\n\u001B[1;32m    156\u001B[0m \u001B[38;5;28;01mif\u001B[39;00m result_shape \u001B[38;5;129;01mis\u001B[39;00m \u001B[38;5;28;01mNone\u001B[39;00m:\n\u001B[0;32m--> 157\u001B[0m   \u001B[38;5;28;01mraise\u001B[39;00m \u001B[38;5;167;01mValueError\u001B[39;00m(\u001B[38;5;124mf\u001B[39m\u001B[38;5;124m\"\u001B[39m\u001B[38;5;124mIncompatible shapes for broadcasting: shapes=\u001B[39m\u001B[38;5;132;01m{\u001B[39;00m\u001B[38;5;28mlist\u001B[39m(shapes)\u001B[38;5;132;01m}\u001B[39;00m\u001B[38;5;124m\"\u001B[39m)\n\u001B[1;32m    158\u001B[0m \u001B[38;5;28;01mreturn\u001B[39;00m result_shape\n",
      "\u001B[0;31mValueError\u001B[0m: Incompatible shapes for broadcasting: shapes=[(10000,), (10000, 10)]"
     ]
    }
   ],
   "source": [
    "epoch=0\n",
    "for cycle in range(150):\n",
    "    epoch +=1\n",
    "    (loss, logits), grads = cnn_train_loss_grad_fn(parameters)\n",
    "    accuracy, misses =cnn_test_accuracy_fn(parameters)\n",
    "    try:\n",
    "        run[\"train/epoch\"].log(epoch)\n",
    "        run[\"train/train-loss\"].log(loss)\n",
    "        run[\"train/test-accuracy\"].log(accuracy)\n",
    "        run[\"train/test-misses\"].log(misses)\n",
    "    except:\n",
    "        pass\n",
    "    neglog_accuracy = - jnp.log10(1.00-accuracy)\n",
    "    run[\"train/test-neglog-accuracy\"].log(neglog_accuracy)\n",
    "    print(f'epoch {epoch} : loss={loss: 0.3f}, misses={misses}, accuracy={100*accuracy: 0.3f}% -> neglog={neglog_accuracy:0.3f}')\n",
    "    updates, tx_state = tx.update(grads, tx_state)\n",
    "    parameters = optax.apply_updates(parameters, updates)\n",
    "    snapshot = flax.serialization.to_bytes(parameters)\n",
    "    with open('snapshot','wb') as f:\n",
    "        f.write(snapshot)\n",
    "run[\"eval/neglog\"] = neglog_accuracy\n",
    "run.stop()\n"
   ],
   "metadata": {
    "collapsed": false
   }
  }
 ],
 "metadata": {
  "kernelspec": {
   "display_name": "Python 3 (ipykernel)",
   "language": "python",
   "name": "python3"
  },
  "language_info": {
   "codemirror_mode": {
    "name": "ipython",
    "version": 3
   },
   "file_extension": ".py",
   "mimetype": "text/x-python",
   "name": "python",
   "nbconvert_exporter": "python",
   "pygments_lexer": "ipython3",
   "version": "3.8.13"
  }
 },
 "nbformat": 4,
 "nbformat_minor": 5
}
